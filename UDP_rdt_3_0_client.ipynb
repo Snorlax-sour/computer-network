{
 "cells": [
  {
   "cell_type": "code",
   "execution_count": 19,
   "id": "8dee7a2d",
   "metadata": {},
   "outputs": [
    {
     "name": "stderr",
     "output_type": "stream",
     "text": [
      "\n",
      "\n",
      "\n",
      "\n",
      "\n",
      "\n",
      "\n",
      "Sending Screenshot_20240519_120249.jpg:   0%|                                               | 0.00/693k [00:00<?, ?B/s]\u001b[A\u001b[A\u001b[A\u001b[A\u001b[A\u001b[A\u001b[A\n",
      "\n",
      "\n",
      "\n",
      "\n",
      "\n",
      "\n",
      "Sending Screenshot_20240519_120249.jpg:  14%|█████▍                                 | 96.0k/693k [00:00<00:00, 955kB/s]\u001b[A\u001b[A\u001b[A\u001b[A\u001b[A\u001b[A\u001b[A\n",
      "\n",
      "\n",
      "\n",
      "\n",
      "\n",
      "\n",
      "Sending Screenshot_20240519_120249.jpg:  30%|███████████▌                           | 206k/693k [00:00<00:00, 1.05MB/s]\u001b[A\u001b[A\u001b[A\u001b[A\u001b[A\u001b[A\u001b[A\n",
      "\n",
      "\n",
      "\n",
      "\n",
      "\n",
      "\n",
      "Sending Screenshot_20240519_120249.jpg:  46%|█████████████████▉                     | 319k/693k [00:00<00:00, 1.09MB/s]\u001b[A\u001b[A\u001b[A\u001b[A\u001b[A\u001b[A\u001b[A\n",
      "\n",
      "\n",
      "\n",
      "\n",
      "\n",
      "\n",
      "Sending Screenshot_20240519_120249.jpg:  65%|█████████████████████████▎             | 451k/693k [00:00<00:00, 1.17MB/s]\u001b[A\u001b[A\u001b[A\u001b[A\u001b[A\u001b[A\u001b[A\n",
      "\n",
      "\n",
      "\n",
      "\n",
      "\n",
      "\n",
      "Sending Screenshot_20240519_120249.jpg: 100%|███████████████████████████████████████| 693k/693k [00:00<00:00, 1.20MB/s]\u001b[A\u001b[A\u001b[A\u001b[A\u001b[A\u001b[A\u001b[A"
     ]
    },
    {
     "name": "stdout",
     "output_type": "stream",
     "text": [
      "Image sent.\n"
     ]
    },
    {
     "name": "stderr",
     "output_type": "stream",
     "text": [
      "\n"
     ]
    }
   ],
   "source": [
    "import socket\n",
    "import os\n",
    "import tqdm\n",
    "\n",
    "#port meaning sent packet to portXXX, i.e. send to server ip and with it service port\n",
    "def client(host='127.0.0.1', port=12346, file_path='received_image.jpg'):\n",
    "    buffer_size = 1024\n",
    "    ack_message = b'ACK'\n",
    "    timeout = 2  # seconds\n",
    "\n",
    "    with socket.socket(socket.AF_INET, socket.SOCK_DGRAM) as client_socket:\n",
    "        client_socket.settimeout(timeout)\n",
    "        file_size = os.path.getsize(file_path)\n",
    "        progress = tqdm.tqdm(range(file_size), f\"Sending {file_path}\", unit=\"B\", unit_scale=True, unit_divisor=1024)\n",
    "\n",
    "        with open(file_path, 'rb') as f:\n",
    "            seq_num = 0\n",
    "            while True:\n",
    "                data = f.read(buffer_size)\n",
    "                if not data:\n",
    "                    break\n",
    "\n",
    "                while True:\n",
    "                    packet = seq_num.to_bytes(4, 'big') + data\n",
    "                    client_socket.sendto(packet, (host, port))\n",
    "\n",
    "                    try:\n",
    "                        response, _ = client_socket.recvfrom(buffer_size + 4)\n",
    "                        if response.startswith(ack_message) and int.from_bytes(response[3:], 'big') == seq_num:\n",
    "                            progress.update(len(data))\n",
    "                            seq_num += 1\n",
    "                            break\n",
    "                    except socket.timeout:\n",
    "                        print(f\"Timeout, resending packet {seq_num}\")\n",
    "            \n",
    "        print(\"Image sent.\")\n",
    "\n",
    "if __name__ == \"__main__\":\n",
    "    client('127.0.0.1', 12346, 'Screenshot_20240527_142500.jpg')\n"
   ]
  },
  {
   "cell_type": "code",
   "execution_count": null,
   "id": "c97bc129",
   "metadata": {},
   "outputs": [],
   "source": []
  },
  {
   "cell_type": "code",
   "execution_count": null,
   "id": "83c3fa1c",
   "metadata": {},
   "outputs": [],
   "source": []
  }
 ],
 "metadata": {
  "kernelspec": {
   "display_name": "Python 3",
   "language": "python",
   "name": "python3"
  },
  "language_info": {
   "codemirror_mode": {
    "name": "ipython",
    "version": 3
   },
   "file_extension": ".py",
   "mimetype": "text/x-python",
   "name": "python",
   "nbconvert_exporter": "python",
   "pygments_lexer": "ipython3",
   "version": "3.6.9"
  }
 },
 "nbformat": 4,
 "nbformat_minor": 5
}
